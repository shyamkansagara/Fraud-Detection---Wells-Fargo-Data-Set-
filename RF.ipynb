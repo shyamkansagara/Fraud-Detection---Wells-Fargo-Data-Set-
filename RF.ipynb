{
  "nbformat": 4,
  "nbformat_minor": 0,
  "metadata": {
    "colab": {
      "name": "RF.ipynb",
      "provenance": [],
      "collapsed_sections": []
    },
    "kernelspec": {
      "name": "python3",
      "display_name": "Python 3"
    },
    "language_info": {
      "name": "python"
    }
  },
  "cells": [
    {
      "cell_type": "code",
      "execution_count": null,
      "metadata": {
        "id": "cYWNiqrJv3B1"
      },
      "outputs": [],
      "source": [
        "import pandas as pd\n",
        "import numpy as np\n",
        "import seaborn as sns\n",
        "import matplotlib.pyplot as plt\n"
      ]
    },
    {
      "cell_type": "code",
      "source": [
        "wellsfargo = pd.read_excel(\"/content/final.xlsx\")\n",
        "#wellsfargo_test = pd.read_excel('/content/wellsfargo_test.xlsx')"
      ],
      "metadata": {
        "id": "mU3MHFR_D-hg"
      },
      "execution_count": null,
      "outputs": []
    },
    {
      "cell_type": "code",
      "source": [
        "print(wellsfargo.shape) # get record and variable counts\n",
        "print(wellsfargo.columns) # get variable names"
      ],
      "metadata": {
        "id": "PlPb917Wm4_6",
        "colab": {
          "base_uri": "https://localhost:8080/"
        },
        "outputId": "7e9807fa-e6b1-4aea-c1b4-b7a581018ac5"
      },
      "execution_count": null,
      "outputs": [
        {
          "output_type": "stream",
          "name": "stdout",
          "text": [
            "(13491, 39)\n",
            "Index(['TRAN_AMT', 'ACCT_PRE_TRAN_AVAIL_BAL', 'CUST_AGE', 'OPEN_ACCT_CT',\n",
            "       'WF_dvc_age', 'PWD_UPDT_TS', 'RGN_NAME', 'STATE_PRVNC_TXT',\n",
            "       'ALERT_TRGR_CD', 'CUST_ZIP', 'CUST_STATE', 'PH_NUM_UPDT_TS',\n",
            "       'CUST_SINCE_DT', 'TRAN_TS', 'TRAN_DT', 'ACTN_CD', 'ACTN_INTNL_TXT',\n",
            "       'TRAN_TYPE_CD', 'ACTVY_DT', 'FRAUD_NONFRAUD', 'pwd_up_numeric',\n",
            "       'ph_num_up_numeric', 'cst_since_numeric', 'Tran_TS_Numeric',\n",
            "       'cst_diff_tran', 'phn_diff_tran', 'pwd_diff_tran',\n",
            "       'Carrier_Popular Carrier', 'Carrier_Unknown Carrier', 'Device_MOBILE',\n",
            "       'Device_NoDevice', 'Device_PHONE', 'Device_TABLET', 'auth_prim_AFA_PL',\n",
            "       'auth_prim_FACE_ID', 'auth_prim_TOUCH_ID', 'auth_prim_UN_PWD',\n",
            "       'auth_sec_CHALLENGE_ISSUED', 'auth_sec_CHALLENGE_SUCCESS'],\n",
            "      dtype='object')\n"
          ]
        }
      ]
    },
    {
      "cell_type": "code",
      "source": [
        "#print(wellsfargo_test.shape) # get record and variable counts\n",
        "#print(wellsfargo_test.columns)"
      ],
      "metadata": {
        "id": "ZO-DfmyvkHu8"
      },
      "execution_count": null,
      "outputs": []
    },
    {
      "cell_type": "code",
      "source": [
        "wellsfargo.info()"
      ],
      "metadata": {
        "colab": {
          "base_uri": "https://localhost:8080/"
        },
        "id": "TPnxDUExNgqS",
        "outputId": "30c8a5d2-50b1-4543-cfd1-f8db8b080ff3"
      },
      "execution_count": null,
      "outputs": [
        {
          "output_type": "stream",
          "name": "stdout",
          "text": [
            "<class 'pandas.core.frame.DataFrame'>\n",
            "RangeIndex: 13491 entries, 0 to 13490\n",
            "Data columns (total 39 columns):\n",
            " #   Column                      Non-Null Count  Dtype         \n",
            "---  ------                      --------------  -----         \n",
            " 0   TRAN_AMT                    13491 non-null  float64       \n",
            " 1   ACCT_PRE_TRAN_AVAIL_BAL     13491 non-null  float64       \n",
            " 2   CUST_AGE                    13491 non-null  int64         \n",
            " 3   OPEN_ACCT_CT                13491 non-null  int64         \n",
            " 4   WF_dvc_age                  13491 non-null  int64         \n",
            " 5   PWD_UPDT_TS                 13491 non-null  datetime64[ns]\n",
            " 6   RGN_NAME                    11077 non-null  object        \n",
            " 7   STATE_PRVNC_TXT             11077 non-null  object        \n",
            " 8   ALERT_TRGR_CD               13491 non-null  int64         \n",
            " 9   CUST_ZIP                    13491 non-null  int64         \n",
            " 10  CUST_STATE                  13455 non-null  object        \n",
            " 11  PH_NUM_UPDT_TS              13491 non-null  datetime64[ns]\n",
            " 12  CUST_SINCE_DT               13491 non-null  datetime64[ns]\n",
            " 13  TRAN_TS                     13491 non-null  datetime64[ns]\n",
            " 14  TRAN_DT                     13491 non-null  object        \n",
            " 15  ACTN_CD                     13491 non-null  object        \n",
            " 16  ACTN_INTNL_TXT              13491 non-null  object        \n",
            " 17  TRAN_TYPE_CD                13491 non-null  object        \n",
            " 18  ACTVY_DT                    13491 non-null  object        \n",
            " 19  FRAUD_NONFRAUD              13491 non-null  object        \n",
            " 20  pwd_up_numeric              13491 non-null  int64         \n",
            " 21  ph_num_up_numeric           13491 non-null  int64         \n",
            " 22  cst_since_numeric           13491 non-null  int64         \n",
            " 23  Tran_TS_Numeric             13491 non-null  int64         \n",
            " 24  cst_diff_tran               13491 non-null  int64         \n",
            " 25  phn_diff_tran               13491 non-null  int64         \n",
            " 26  pwd_diff_tran               13491 non-null  int64         \n",
            " 27  Carrier_Popular Carrier     13491 non-null  int64         \n",
            " 28  Carrier_Unknown Carrier     13491 non-null  int64         \n",
            " 29  Device_MOBILE               13491 non-null  int64         \n",
            " 30  Device_NoDevice             13491 non-null  int64         \n",
            " 31  Device_PHONE                13491 non-null  int64         \n",
            " 32  Device_TABLET               13491 non-null  int64         \n",
            " 33  auth_prim_AFA_PL            13491 non-null  int64         \n",
            " 34  auth_prim_FACE_ID           13491 non-null  int64         \n",
            " 35  auth_prim_TOUCH_ID          13491 non-null  int64         \n",
            " 36  auth_prim_UN_PWD            13491 non-null  int64         \n",
            " 37  auth_sec_CHALLENGE_ISSUED   13491 non-null  int64         \n",
            " 38  auth_sec_CHALLENGE_SUCCESS  13491 non-null  int64         \n",
            "dtypes: datetime64[ns](4), float64(2), int64(24), object(9)\n",
            "memory usage: 4.0+ MB\n"
          ]
        }
      ]
    },
    {
      "cell_type": "code",
      "source": [
        "for i in range(len(wellsfargo['FRAUD_NONFRAUD'])):\n",
        "  if wellsfargo.iloc[i,19] == 'Non-Fraud':\n",
        "     wellsfargo.iloc[i,19] = 0 \n",
        "  else:\n",
        "     wellsfargo.iloc[i,19] = 1"
      ],
      "metadata": {
        "id": "EjPT4vWRUgAb"
      },
      "execution_count": null,
      "outputs": []
    },
    {
      "cell_type": "code",
      "source": [
        "#from pandas.core.dtypes.dtypes import CategoricalDtype\n",
        "wellsfargo['FRAUD_NONFRAUD']= pd.Categorical(wellsfargo.FRAUD_NONFRAUD)"
      ],
      "metadata": {
        "id": "X10cnw_IE8x3"
      },
      "execution_count": null,
      "outputs": []
    },
    {
      "cell_type": "code",
      "source": [
        "wellsfargo.Device_MOBILE =  pd.Categorical(wellsfargo.Device_MOBILE)\n",
        "wellsfargo.Device_NoDevice = pd.Categorical(wellsfargo.Device_NoDevice)               \n",
        "wellsfargo.Device_PHONE = pd.Categorical(wellsfargo.Device_PHONE)                  \n",
        "wellsfargo.Device_TABLET = pd.Categorical(wellsfargo.Device_TABLET)                 \n",
        "wellsfargo.auth_prim_AFA_PL = pd.Categorical(wellsfargo.auth_prim_AFA_PL)              \n",
        "wellsfargo.auth_prim_FACE_ID  = pd.Categorical(wellsfargo.auth_prim_FACE_ID )            \n",
        "wellsfargo.auth_prim_TOUCH_ID = pd.Categorical(wellsfargo.auth_prim_TOUCH_ID)            \n",
        "wellsfargo.auth_prim_UN_PWD  = pd.Categorical(wellsfargo.auth_prim_UN_PWD)             \n",
        "wellsfargo.auth_sec_CHALLENGE_ISSUED  = pd.Categorical(wellsfargo.auth_sec_CHALLENGE_ISSUED )    \n",
        "wellsfargo.auth_sec_CHALLENGE_SUCCESS = pd.Categorical(wellsfargo.auth_sec_CHALLENGE_SUCCESS)    \n",
        "wellsfargo['Carrier_Popular Carrier']   = pd.Categorical(wellsfargo['Carrier_Popular Carrier'])\n",
        "wellsfargo['Carrier_Unknown Carrier']   = pd.Categorical(wellsfargo['Carrier_Unknown Carrier'])"
      ],
      "metadata": {
        "id": "8Gb1Vg6uHjwG"
      },
      "execution_count": null,
      "outputs": []
    },
    {
      "cell_type": "code",
      "source": [
        "wellsfargo = wellsfargo[['TRAN_AMT','ACCT_PRE_TRAN_AVAIL_BAL','CUST_AGE','cst_diff_tran','phn_diff_tran','pwd_diff_tran','Device_MOBILE','Device_NoDevice','Device_PHONE','Device_TABLET','auth_prim_AFA_PL','auth_prim_FACE_ID','auth_prim_TOUCH_ID','auth_prim_UN_PWD','auth_sec_CHALLENGE_ISSUED','auth_sec_CHALLENGE_SUCCESS','Carrier_Popular Carrier','Carrier_Unknown Carrier','FRAUD_NONFRAUD']]"
      ],
      "metadata": {
        "id": "37kDUedRSoXn"
      },
      "execution_count": null,
      "outputs": []
    },
    {
      "cell_type": "code",
      "source": [
        "wellsfargo.info()"
      ],
      "metadata": {
        "colab": {
          "base_uri": "https://localhost:8080/"
        },
        "id": "9_LfgbpOEXyK",
        "outputId": "60159008-3dbb-4415-bf55-5a5e3548ab5f"
      },
      "execution_count": null,
      "outputs": [
        {
          "output_type": "stream",
          "name": "stdout",
          "text": [
            "<class 'pandas.core.frame.DataFrame'>\n",
            "RangeIndex: 13491 entries, 0 to 13490\n",
            "Data columns (total 19 columns):\n",
            " #   Column                      Non-Null Count  Dtype   \n",
            "---  ------                      --------------  -----   \n",
            " 0   TRAN_AMT                    13491 non-null  float64 \n",
            " 1   ACCT_PRE_TRAN_AVAIL_BAL     13491 non-null  float64 \n",
            " 2   CUST_AGE                    13491 non-null  int64   \n",
            " 3   cst_diff_tran               13491 non-null  int64   \n",
            " 4   phn_diff_tran               13491 non-null  int64   \n",
            " 5   pwd_diff_tran               13491 non-null  int64   \n",
            " 6   Device_MOBILE               13491 non-null  category\n",
            " 7   Device_NoDevice             13491 non-null  category\n",
            " 8   Device_PHONE                13491 non-null  category\n",
            " 9   Device_TABLET               13491 non-null  category\n",
            " 10  auth_prim_AFA_PL            13491 non-null  category\n",
            " 11  auth_prim_FACE_ID           13491 non-null  category\n",
            " 12  auth_prim_TOUCH_ID          13491 non-null  category\n",
            " 13  auth_prim_UN_PWD            13491 non-null  category\n",
            " 14  auth_sec_CHALLENGE_ISSUED   13491 non-null  category\n",
            " 15  auth_sec_CHALLENGE_SUCCESS  13491 non-null  category\n",
            " 16  Carrier_Popular Carrier     13491 non-null  category\n",
            " 17  Carrier_Unknown Carrier     13491 non-null  category\n",
            " 18  FRAUD_NONFRAUD              13491 non-null  category\n",
            "dtypes: category(13), float64(2), int64(4)\n",
            "memory usage: 805.4 KB\n"
          ]
        }
      ]
    },
    {
      "cell_type": "code",
      "source": [
        "X = wellsfargo.iloc[:,:18]\n",
        "y = wellsfargo.iloc[:, 18]\n"
      ],
      "metadata": {
        "id": "Eoh0HKSzQLp5"
      },
      "execution_count": null,
      "outputs": []
    },
    {
      "cell_type": "code",
      "source": [
        "# Splitting the X and Y into the\n",
        "# Training set and Testing set\n",
        "from sklearn.model_selection import train_test_split\n",
        "\n",
        "X_train, X_test, y_train, y_test = train_test_split(X, y, test_size = 0.2, random_state = 0)\n"
      ],
      "metadata": {
        "id": "cSSrO6Igfj-M"
      },
      "execution_count": null,
      "outputs": []
    },
    {
      "cell_type": "code",
      "source": [
        "from sklearn.ensemble import RandomForestClassifier\n",
        "\n",
        "rnd_clf = RandomForestClassifier(n_estimators=200, max_samples=100, random_state=42)\n",
        "rnd_clf.fit(X_train, y_train)\n",
        "\n",
        "print(rnd_clf.score(X_test, y_test))"
      ],
      "metadata": {
        "colab": {
          "base_uri": "https://localhost:8080/"
        },
        "id": "-FFz41BjDVm-",
        "outputId": "7392fb5c-3e7c-4132-eb1c-9e0186525784"
      },
      "execution_count": null,
      "outputs": [
        {
          "output_type": "stream",
          "name": "stdout",
          "text": [
            "0.933308632826973\n"
          ]
        }
      ]
    },
    {
      "cell_type": "code",
      "source": [
        "from  sklearn.metrics import f1_score\n",
        "y1 = rnd_clf.predict(X_test)\n",
        "f1_score(y_test,y1)"
      ],
      "metadata": {
        "colab": {
          "base_uri": "https://localhost:8080/"
        },
        "id": "KvtDCBkpGxXr",
        "outputId": "dccd3046-011d-4b5d-cd75-e2b6a7d42ad6"
      },
      "execution_count": null,
      "outputs": [
        {
          "output_type": "execute_result",
          "data": {
            "text/plain": [
              "0.8652694610778444"
            ]
          },
          "metadata": {},
          "execution_count": 59
        }
      ]
    },
    {
      "cell_type": "code",
      "source": [
        "from sklearn.ensemble import AdaBoostClassifier\n",
        "from sklearn.tree import DecisionTreeClassifier\n",
        "# Define base model\n",
        "naive_dt = DecisionTreeClassifier(max_depth=1)\n",
        "\n",
        "# AdaBoost\n",
        "ada_clf = AdaBoostClassifier(\n",
        "    naive_dt, n_estimators=200, learning_rate=0.5,\n",
        "    random_state=42)\n",
        "\n",
        "ada_clf.fit(X_train, y_train)\n",
        "\n",
        "# Performance\n",
        "print(ada_clf.score(X_test, y_test))"
      ],
      "metadata": {
        "colab": {
          "base_uri": "https://localhost:8080/"
        },
        "id": "-IUj6PypLi60",
        "outputId": "dc437af0-da64-4cc1-ee30-7646619e7b76"
      },
      "execution_count": null,
      "outputs": [
        {
          "output_type": "stream",
          "name": "stdout",
          "text": [
            "0.9514635050018525\n"
          ]
        }
      ]
    },
    {
      "cell_type": "code",
      "source": [
        "from  sklearn.metrics import f1_score\n",
        "y1 = ada_clf.predict(X_test)\n",
        "f1_score(y_test,y1)"
      ],
      "metadata": {
        "colab": {
          "base_uri": "https://localhost:8080/"
        },
        "id": "UHTjuGQHL0E0",
        "outputId": "d6fb83af-d172-458b-e47c-d465c432ad45"
      },
      "execution_count": null,
      "outputs": [
        {
          "output_type": "execute_result",
          "data": {
            "text/plain": [
              "0.9043097151205258"
            ]
          },
          "metadata": {},
          "execution_count": 61
        }
      ]
    },
    {
      "cell_type": "code",
      "source": [
        "# performing preprocessing part\n",
        "#from sklearn.preprocessing import StandardScaler\n",
        "from sklearn.preprocessing import MinMaxScaler\n",
        "#sc = StandardScaler()\n",
        "sc = MinMaxScaler()\n",
        "X_train = sc.fit_transform(X_train)\n",
        "X_test = sc.transform(X_test)\n"
      ],
      "metadata": {
        "id": "tebQmm5iQzGX"
      },
      "execution_count": null,
      "outputs": []
    },
    {
      "cell_type": "code",
      "source": [
        "X_train[:5,:]"
      ],
      "metadata": {
        "colab": {
          "base_uri": "https://localhost:8080/"
        },
        "id": "6MP3IXSBJYdZ",
        "outputId": "da54199b-a0a0-438e-84e6-4af10318dac8"
      },
      "execution_count": null,
      "outputs": [
        {
          "output_type": "execute_result",
          "data": {
            "text/plain": [
              "array([[ 0.12554513,  1.22758159, -0.28378751,  0.08043803, -0.73273652,\n",
              "         0.08238309,  0.01351184,  0.42968147,  0.01422468,  0.05102499],\n",
              "       [ 0.13880998, -0.19002297, -0.3579291 ,  0.79567058, -0.07433216,\n",
              "         0.0251919 , -0.37567074, -0.19071241,  0.00359437, -0.20893991],\n",
              "       [-0.56170476,  0.16420049, -0.48729433,  0.38026063, -0.03680974,\n",
              "        -0.04148803,  0.04677852, -0.18960176,  0.01786687, -0.0562959 ],\n",
              "       [-0.22734924,  0.75953083,  0.60479777,  0.01893375,  0.01660999,\n",
              "         0.96559552,  0.20640814, -0.05295328, -0.64091908, -0.08460903],\n",
              "       [ 1.20991084, -0.06947443,  0.62704688, -0.19937051,  0.82770276,\n",
              "         0.14728885,  0.57013152,  0.17653165,  0.69986355, -0.0943209 ]])"
            ]
          },
          "metadata": {},
          "execution_count": 92
        }
      ]
    },
    {
      "cell_type": "code",
      "source": [
        "#99% of variance\n",
        "from sklearn.decomposition import PCA\n",
        "pca = PCA(n_components = 0.95)\n",
        "pca.fit(X_train)\n",
        "reduced = pca.transform(X_train)"
      ],
      "metadata": {
        "id": "K0fk_0d--r4k"
      },
      "execution_count": null,
      "outputs": []
    },
    {
      "cell_type": "code",
      "source": [
        "pca = PCA().fit(X_train)\n",
        "\n",
        "% matplotlib inline\n",
        "import matplotlib.pyplot as plt\n",
        "plt.rcParams[\"figure.figsize\"] = (12,6)\n",
        "\n",
        "fig, ax = plt.subplots()\n",
        "xi = np.arange(1, 22, step=1)\n",
        "y = np.cumsum(pca.explained_variance_ratio_)\n",
        "\n",
        "plt.ylim(0.0,1.1)\n",
        "plt.plot(xi, y, marker='o', linestyle='--', color='b')\n",
        "\n",
        "plt.xlabel('Number of Components')\n",
        "plt.xticks(np.arange(0, 11, step=1)) #change from 0-based array index to 1-based human-readable label\n",
        "plt.ylabel('Cumulative variance (%)')\n",
        "plt.title('The number of components needed to explain variance')\n",
        "\n",
        "plt.axhline(y=0.95, color='r', linestyle='-')\n",
        "plt.text(0.5, 0.85, '95% cut-off threshold', color = 'red', fontsize=16)\n",
        "\n",
        "ax.grid(axis='x')\n",
        "plt.show()"
      ],
      "metadata": {
        "colab": {
          "base_uri": "https://localhost:8080/",
          "height": 404
        },
        "id": "y2wXj0Kj-wEk",
        "outputId": "b9e35359-5fac-45ae-c1be-f5fd48b492c0"
      },
      "execution_count": null,
      "outputs": [
        {
          "output_type": "display_data",
          "data": {
            "text/plain": [
              "<Figure size 864x432 with 1 Axes>"
            ],
            "image/png": "[encoded data removed]"
          },
          "metadata": {
            "needs_background": "light"
          }
        }
      ]
    },
    {
      "cell_type": "code",
      "source": [
        "# Applying PCA function on training\n",
        "# and testing set of X component\n",
        "from sklearn.decomposition import PCA\n",
        " \n",
        "pca = PCA(n_components = 10)\n",
        " \n",
        "X_train = pca.fit_transform(X_train)\n",
        "X_test = pca.transform(X_test)\n",
        " \n",
        "explained_variance = pca.explained_variance_ratio_"
      ],
      "metadata": {
        "id": "uOdfZbPCRJJA"
      },
      "execution_count": null,
      "outputs": []
    },
    {
      "cell_type": "code",
      "source": [
        "# Fitting Logistic Regression To the training set\n",
        "from sklearn.linear_model import LogisticRegression \n",
        " \n",
        "classifier = LogisticRegression(solver=\"liblinear\",penalty='l2',random_state = 0)\n",
        "classifier.fit(X_train, y_train)"
      ],
      "metadata": {
        "colab": {
          "base_uri": "https://localhost:8080/"
        },
        "id": "kk5HoNWvR9JP",
        "outputId": "f32c4018-ba59-4bea-c9af-7d01f396c311"
      },
      "execution_count": null,
      "outputs": [
        {
          "output_type": "execute_result",
          "data": {
            "text/plain": [
              "LogisticRegression(random_state=0, solver='liblinear')"
            ]
          },
          "metadata": {},
          "execution_count": 86
        }
      ]
    },
    {
      "cell_type": "code",
      "source": [
        "# Predicting the test set result using\n",
        "# predict function under LogisticRegression\n",
        "y_pred = classifier.predict(X_test)"
      ],
      "metadata": {
        "id": "tuOw-UVRZpOi"
      },
      "execution_count": null,
      "outputs": []
    },
    {
      "cell_type": "code",
      "source": [
        "# making confusion matrix between\n",
        "#  test set of Y and predicted value.\n",
        "from sklearn.metrics import confusion_matrix\n",
        " \n",
        "cm = confusion_matrix(y_test, y_pred)\n",
        "print(cm)"
      ],
      "metadata": {
        "colab": {
          "base_uri": "https://localhost:8080/"
        },
        "id": "ye-7dSRzgVV8",
        "outputId": "0e0c6e70-59c8-44a9-96a7-2cd90295c4fc"
      },
      "execution_count": null,
      "outputs": [
        {
          "output_type": "stream",
          "name": "stdout",
          "text": [
            "[[ 269  421]\n",
            " [ 126 1883]]\n"
          ]
        }
      ]
    },
    {
      "cell_type": "code",
      "source": [
        "classifier.score(X_train,y_train)"
      ],
      "metadata": {
        "colab": {
          "base_uri": "https://localhost:8080/"
        },
        "id": "CMAOc7_hhh8E",
        "outputId": "52de2918-8f76-4cc5-e070-500b23fdf41e"
      },
      "execution_count": null,
      "outputs": [
        {
          "output_type": "execute_result",
          "data": {
            "text/plain": [
              "0.7676056338028169"
            ]
          },
          "metadata": {},
          "execution_count": 89
        }
      ]
    },
    {
      "cell_type": "code",
      "source": [
        "classifier.score(X_test,y_test)"
      ],
      "metadata": {
        "colab": {
          "base_uri": "https://localhost:8080/"
        },
        "id": "LnGxN6ONh0er",
        "outputId": "7cef1475-5f4e-496f-dbd6-66d6bc4357cd"
      },
      "execution_count": null,
      "outputs": [
        {
          "output_type": "execute_result",
          "data": {
            "text/plain": [
              "0.797332345313079"
            ]
          },
          "metadata": {},
          "execution_count": 90
        }
      ]
    },
    {
      "cell_type": "code",
      "source": [
        "\n",
        "#1) SVM LinearLocator ( SCALING)\n",
        "#2) LOGISTIC POLYNOMIAL var\n",
        "#3) NAIVE BAYES\n",
        "#4) \n"
      ],
      "metadata": {
        "id": "lojANP2BG7LH"
      },
      "execution_count": null,
      "outputs": []
    }
  ]
}