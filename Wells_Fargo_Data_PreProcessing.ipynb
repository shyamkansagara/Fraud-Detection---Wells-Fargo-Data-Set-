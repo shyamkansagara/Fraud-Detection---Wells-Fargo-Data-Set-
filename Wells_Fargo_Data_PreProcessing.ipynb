{
  "nbformat": 4,
  "nbformat_minor": 0,
  "metadata": {
    "colab": {
      "name": "Wells Fargo Data PreProcessing.ipynb",
      "provenance": [],
      "collapsed_sections": [
        "KGopWSEY9qLS",
        "5hpPHmS_9Xrf",
        "j8N9NyM4RjZJ"
      ]
    },
    "kernelspec": {
      "name": "python3",
      "display_name": "Python 3"
    },
    "language_info": {
      "name": "python"
    }
  },
  "cells": [
    {
      "cell_type": "markdown",
      "source": [
        "# Data Preprocessing"
      ],
      "metadata": {
        "id": "1UR-7ZAf9ESI"
      }
    },
    {
      "cell_type": "markdown",
      "source": [
        "## Imports"
      ],
      "metadata": {
        "id": "KGopWSEY9qLS"
      }
    },
    {
      "cell_type": "code",
      "source": [
        "import pandas as pd\n",
        "import numpy as np\n",
        "import matplotlib.pyplot as plt\n",
        "from datetime import datetime\n",
        "from pandas.core.tools.datetimes import to_datetime"
      ],
      "metadata": {
        "id": "o5WskvXT9pm-"
      },
      "execution_count": null,
      "outputs": []
    },
    {
      "cell_type": "markdown",
      "source": [
        "## Timestamp Cleaning "
      ],
      "metadata": {
        "id": "5hpPHmS_9Xrf"
      }
    },
    {
      "cell_type": "code",
      "source": [
        "data = pd.read_excel(\"/content/trainset.xlsx\")"
      ],
      "metadata": {
        "id": "HAX5WY-YGvNx"
      },
      "execution_count": null,
      "outputs": []
    },
    {
      "cell_type": "code",
      "source": [
        "print(data.info())"
      ],
      "metadata": {
        "colab": {
          "base_uri": "https://localhost:8080/"
        },
        "id": "jVSVsRmD_e19",
        "outputId": "fc14311c-8a77-4520-92ff-ddf394798612"
      },
      "execution_count": null,
      "outputs": [
        {
          "output_type": "stream",
          "name": "stdout",
          "text": [
            "<class 'pandas.core.frame.DataFrame'>\n",
            "RangeIndex: 14000 entries, 0 to 13999\n",
            "Data columns (total 24 columns):\n",
            " #   Column                   Non-Null Count  Dtype         \n",
            "---  ------                   --------------  -----         \n",
            " 0   TRAN_AMT                 14000 non-null  float64       \n",
            " 1   ACCT_PRE_TRAN_AVAIL_BAL  14000 non-null  float64       \n",
            " 2   CUST_AGE                 14000 non-null  int64         \n",
            " 3   OPEN_ACCT_CT             14000 non-null  int64         \n",
            " 4   WF_dvc_age               14000 non-null  int64         \n",
            " 5   PWD_UPDT_TS              10875 non-null  object        \n",
            " 6   CARR_NAME                11291 non-null  object        \n",
            " 7   RGN_NAME                 11291 non-null  object        \n",
            " 8   STATE_PRVNC_TXT          11291 non-null  object        \n",
            " 9   ALERT_TRGR_CD            14000 non-null  object        \n",
            " 10  DVC_TYPE_TXT             12239 non-null  object        \n",
            " 11  AUTHC_PRIM_TYPE_CD       14000 non-null  object        \n",
            " 12  AUTHC_SCNDRY_STAT_TXT    13926 non-null  object        \n",
            " 13  CUST_ZIP                 14000 non-null  int64         \n",
            " 14  CUST_STATE               13964 non-null  object        \n",
            " 15  PH_NUM_UPDT_TS           6939 non-null   object        \n",
            " 16  CUST_SINCE_DT            14000 non-null  datetime64[ns]\n",
            " 17  TRAN_TS                  14000 non-null  object        \n",
            " 18  TRAN_DT                  14000 non-null  object        \n",
            " 19  ACTN_CD                  14000 non-null  object        \n",
            " 20  ACTN_INTNL_TXT           14000 non-null  object        \n",
            " 21  TRAN_TYPE_CD             14000 non-null  object        \n",
            " 22  ACTVY_DT                 14000 non-null  object        \n",
            " 23  FRAUD_NONFRAUD           14000 non-null  object        \n",
            "dtypes: datetime64[ns](1), float64(2), int64(4), object(17)\n",
            "memory usage: 2.6+ MB\n",
            "None\n"
          ]
        }
      ]
    },
    {
      "cell_type": "code",
      "source": [
        "# Here if we dont have the pwd_upd_ts, it means that the password was never changed .\n",
        "# So user have the same password as when the acc was created.\n",
        "# So we are replacing the empty values with the account opening time stamp.  \n",
        "pwd_up = pd.Series(data[\"PWD_UPDT_TS\"])\n",
        "cst_since = pd.Series(data[\"CUST_SINCE_DT\"])\n",
        "pwd_up.fillna(130, inplace = True )\n",
        "pwd_up.head(100)\n",
        "for i in range(len(cst_since)):\n",
        "  if pwd_up[i] == 130:\n",
        "    pwd_up[i] = cst_since[i]\n",
        "print(pwd_up.head(100))\n"
      ],
      "metadata": {
        "id": "rSucR6VVGx7T",
        "colab": {
          "base_uri": "https://localhost:8080/"
        },
        "outputId": "edaca029-582c-4a01-8410-77bf915852d9"
      },
      "execution_count": null,
      "outputs": [
        {
          "output_type": "stream",
          "name": "stdout",
          "text": [
            "0       1/16/2018 11:3:58\n",
            "1     1971-01-07 00:00:00\n",
            "2     12/22/2021 10:42:51\n",
            "3        2/8/2020 7:28:31\n",
            "4     12/28/2020 12:12:44\n",
            "             ...         \n",
            "95    1986-08-26 00:00:00\n",
            "96       5/9/2017 13:7:20\n",
            "97     2/26/2021 20:55:41\n",
            "98      5/29/2017 14:7:20\n",
            "99      5/19/2021 1:57:11\n",
            "Name: PWD_UPDT_TS, Length: 100, dtype: object\n"
          ]
        }
      ]
    },
    {
      "cell_type": "code",
      "source": [
        "from pandas.core.tools.datetimes import to_datetime\n",
        "s1 = to_datetime(pwd_up , errors = 'coerce')\n",
        "s1.head(1000)\n",
        "data[\"PWD_UPDT_TS\"] = s1"
      ],
      "metadata": {
        "id": "dTqV7WUDH5Ry"
      },
      "execution_count": null,
      "outputs": []
    },
    {
      "cell_type": "code",
      "source": [
        "data2 =  data[data[\"PWD_UPDT_TS\"].notna()]"
      ],
      "metadata": {
        "id": "4Ue73SJMIRXL"
      },
      "execution_count": null,
      "outputs": []
    },
    {
      "cell_type": "code",
      "source": [
        "data2.info()"
      ],
      "metadata": {
        "id": "1j3aAhS0IVoK",
        "colab": {
          "base_uri": "https://localhost:8080/"
        },
        "outputId": "2538df57-5ffc-4cad-dfc4-18f3327b7c4e"
      },
      "execution_count": null,
      "outputs": [
        {
          "output_type": "stream",
          "name": "stdout",
          "text": [
            "<class 'pandas.core.frame.DataFrame'>\n",
            "Int64Index: 13993 entries, 0 to 13999\n",
            "Data columns (total 24 columns):\n",
            " #   Column                   Non-Null Count  Dtype         \n",
            "---  ------                   --------------  -----         \n",
            " 0   TRAN_AMT                 13993 non-null  float64       \n",
            " 1   ACCT_PRE_TRAN_AVAIL_BAL  13993 non-null  float64       \n",
            " 2   CUST_AGE                 13993 non-null  int64         \n",
            " 3   OPEN_ACCT_CT             13993 non-null  int64         \n",
            " 4   WF_dvc_age               13993 non-null  int64         \n",
            " 5   PWD_UPDT_TS              13993 non-null  datetime64[ns]\n",
            " 6   CARR_NAME                11287 non-null  object        \n",
            " 7   RGN_NAME                 11287 non-null  object        \n",
            " 8   STATE_PRVNC_TXT          11287 non-null  object        \n",
            " 9   ALERT_TRGR_CD            13993 non-null  object        \n",
            " 10  DVC_TYPE_TXT             12234 non-null  object        \n",
            " 11  AUTHC_PRIM_TYPE_CD       13993 non-null  object        \n",
            " 12  AUTHC_SCNDRY_STAT_TXT    13919 non-null  object        \n",
            " 13  CUST_ZIP                 13993 non-null  int64         \n",
            " 14  CUST_STATE               13957 non-null  object        \n",
            " 15  PH_NUM_UPDT_TS           6935 non-null   object        \n",
            " 16  CUST_SINCE_DT            13993 non-null  datetime64[ns]\n",
            " 17  TRAN_TS                  13993 non-null  object        \n",
            " 18  TRAN_DT                  13993 non-null  object        \n",
            " 19  ACTN_CD                  13993 non-null  object        \n",
            " 20  ACTN_INTNL_TXT           13993 non-null  object        \n",
            " 21  TRAN_TYPE_CD             13993 non-null  object        \n",
            " 22  ACTVY_DT                 13993 non-null  object        \n",
            " 23  FRAUD_NONFRAUD           13993 non-null  object        \n",
            "dtypes: datetime64[ns](2), float64(2), int64(4), object(16)\n",
            "memory usage: 2.7+ MB\n"
          ]
        }
      ]
    },
    {
      "cell_type": "code",
      "source": [
        "data2.to_excel(\"/content/buffer3.xlsx\", index = False)"
      ],
      "metadata": {
        "id": "zk86TmPZMrYH"
      },
      "execution_count": null,
      "outputs": []
    },
    {
      "cell_type": "code",
      "source": [
        "data3 = pd.read_excel(\"/content/buffer3.xlsx\")"
      ],
      "metadata": {
        "id": "E4cxS98cNqPS"
      },
      "execution_count": null,
      "outputs": []
    },
    {
      "cell_type": "code",
      "source": [
        "print(data3.info())"
      ],
      "metadata": {
        "id": "qYpera5F_K2j",
        "colab": {
          "base_uri": "https://localhost:8080/"
        },
        "outputId": "42633226-2c74-4876-eb9d-4264782350ca"
      },
      "execution_count": null,
      "outputs": [
        {
          "output_type": "stream",
          "name": "stdout",
          "text": [
            "<class 'pandas.core.frame.DataFrame'>\n",
            "RangeIndex: 13993 entries, 0 to 13992\n",
            "Data columns (total 24 columns):\n",
            " #   Column                   Non-Null Count  Dtype         \n",
            "---  ------                   --------------  -----         \n",
            " 0   TRAN_AMT                 13993 non-null  float64       \n",
            " 1   ACCT_PRE_TRAN_AVAIL_BAL  13993 non-null  float64       \n",
            " 2   CUST_AGE                 13993 non-null  int64         \n",
            " 3   OPEN_ACCT_CT             13993 non-null  int64         \n",
            " 4   WF_dvc_age               13993 non-null  int64         \n",
            " 5   PWD_UPDT_TS              13993 non-null  datetime64[ns]\n",
            " 6   CARR_NAME                11287 non-null  object        \n",
            " 7   RGN_NAME                 11287 non-null  object        \n",
            " 8   STATE_PRVNC_TXT          11287 non-null  object        \n",
            " 9   ALERT_TRGR_CD            13993 non-null  object        \n",
            " 10  DVC_TYPE_TXT             12234 non-null  object        \n",
            " 11  AUTHC_PRIM_TYPE_CD       13993 non-null  object        \n",
            " 12  AUTHC_SCNDRY_STAT_TXT    13919 non-null  object        \n",
            " 13  CUST_ZIP                 13993 non-null  int64         \n",
            " 14  CUST_STATE               13957 non-null  object        \n",
            " 15  PH_NUM_UPDT_TS           6935 non-null   object        \n",
            " 16  CUST_SINCE_DT            13993 non-null  datetime64[ns]\n",
            " 17  TRAN_TS                  13993 non-null  object        \n",
            " 18  TRAN_DT                  13993 non-null  object        \n",
            " 19  ACTN_CD                  13993 non-null  object        \n",
            " 20  ACTN_INTNL_TXT           13993 non-null  object        \n",
            " 21  TRAN_TYPE_CD             13993 non-null  object        \n",
            " 22  ACTVY_DT                 13993 non-null  object        \n",
            " 23  FRAUD_NONFRAUD           13993 non-null  object        \n",
            "dtypes: datetime64[ns](2), float64(2), int64(4), object(16)\n",
            "memory usage: 2.6+ MB\n",
            "None\n"
          ]
        }
      ]
    },
    {
      "cell_type": "code",
      "source": [
        "phn = pd.Series(data3[\"PH_NUM_UPDT_TS\"])\n",
        "cst_since = pd.Series(data3[\"CUST_SINCE_DT\"])\n",
        "phn.fillna(130, inplace = True )\n",
        "#phn.head(100)\n",
        "for i in range(len(cst_since)):\n",
        "  if phn[i] == 130:\n",
        "    phn[i] = cst_since[i]\n",
        "print(phn.head(100))\n"
      ],
      "metadata": {
        "id": "uE0tG-isIX-a",
        "colab": {
          "base_uri": "https://localhost:8080/"
        },
        "outputId": "74a58ea7-c1b6-4500-dc95-eee7965ce665"
      },
      "execution_count": null,
      "outputs": [
        {
          "output_type": "stream",
          "name": "stdout",
          "text": [
            "0      2/24/2021 15:55:10\n",
            "1     1971-01-07 00:00:00\n",
            "2         5/5/2019 1:8:39\n",
            "3       2/16/2019 6:45:37\n",
            "4        5/8/2020 10:27:6\n",
            "             ...         \n",
            "95    1986-08-26 00:00:00\n",
            "96    2000-02-09 00:00:00\n",
            "97       9/8/2017 2:53:51\n",
            "98    2016-10-08 00:00:00\n",
            "99    2016-08-23 00:00:00\n",
            "Name: PH_NUM_UPDT_TS, Length: 100, dtype: object\n"
          ]
        }
      ]
    },
    {
      "cell_type": "code",
      "source": [
        "from pandas.core.tools.datetimes import to_datetime\n",
        "temp1 = pd.to_datetime(phn , errors = 'coerce')\n",
        "temp1.head(1000)\n",
        "data3[\"PH_NUM_UPDT_TS\"] = temp1"
      ],
      "metadata": {
        "id": "ipmAlsIPJHZb"
      },
      "execution_count": null,
      "outputs": []
    },
    {
      "cell_type": "code",
      "source": [
        "data_phn_upd_done =  data3[data3[\"PH_NUM_UPDT_TS\"].notna()]"
      ],
      "metadata": {
        "id": "Uz_NmsSPJY_F"
      },
      "execution_count": null,
      "outputs": []
    },
    {
      "cell_type": "code",
      "source": [
        "data_phn_upd_done.info()"
      ],
      "metadata": {
        "id": "pVe_rNYS_BN8",
        "colab": {
          "base_uri": "https://localhost:8080/"
        },
        "outputId": "d8b028c2-b71e-48c4-f4e6-3b38b57b2648"
      },
      "execution_count": null,
      "outputs": [
        {
          "output_type": "stream",
          "name": "stdout",
          "text": [
            "<class 'pandas.core.frame.DataFrame'>\n",
            "Int64Index: 13491 entries, 0 to 13992\n",
            "Data columns (total 24 columns):\n",
            " #   Column                   Non-Null Count  Dtype         \n",
            "---  ------                   --------------  -----         \n",
            " 0   TRAN_AMT                 13491 non-null  float64       \n",
            " 1   ACCT_PRE_TRAN_AVAIL_BAL  13491 non-null  float64       \n",
            " 2   CUST_AGE                 13491 non-null  int64         \n",
            " 3   OPEN_ACCT_CT             13491 non-null  int64         \n",
            " 4   WF_dvc_age               13491 non-null  int64         \n",
            " 5   PWD_UPDT_TS              13491 non-null  datetime64[ns]\n",
            " 6   CARR_NAME                11077 non-null  object        \n",
            " 7   RGN_NAME                 11077 non-null  object        \n",
            " 8   STATE_PRVNC_TXT          11077 non-null  object        \n",
            " 9   ALERT_TRGR_CD            13491 non-null  object        \n",
            " 10  DVC_TYPE_TXT             11828 non-null  object        \n",
            " 11  AUTHC_PRIM_TYPE_CD       13491 non-null  object        \n",
            " 12  AUTHC_SCNDRY_STAT_TXT    13417 non-null  object        \n",
            " 13  CUST_ZIP                 13491 non-null  int64         \n",
            " 14  CUST_STATE               13455 non-null  object        \n",
            " 15  PH_NUM_UPDT_TS           13491 non-null  datetime64[ns]\n",
            " 16  CUST_SINCE_DT            13491 non-null  datetime64[ns]\n",
            " 17  TRAN_TS                  13491 non-null  object        \n",
            " 18  TRAN_DT                  13491 non-null  object        \n",
            " 19  ACTN_CD                  13491 non-null  object        \n",
            " 20  ACTN_INTNL_TXT           13491 non-null  object        \n",
            " 21  TRAN_TYPE_CD             13491 non-null  object        \n",
            " 22  ACTVY_DT                 13491 non-null  object        \n",
            " 23  FRAUD_NONFRAUD           13491 non-null  object        \n",
            "dtypes: datetime64[ns](3), float64(2), int64(4), object(15)\n",
            "memory usage: 2.6+ MB\n"
          ]
        }
      ]
    },
    {
      "cell_type": "code",
      "source": [
        "data_phn_upd_done.to_excel(\"/content/buffer4.xlsx\", index = False)\n",
        "# Here we get our dataset with timestamp noise handled. for all the time stamp colums. \n",
        "# There can be interaction between transaction amount and balance."
      ],
      "metadata": {
        "id": "dP4p6qRYBOyd"
      },
      "execution_count": null,
      "outputs": []
    },
    {
      "cell_type": "markdown",
      "source": [
        "## Date Modification "
      ],
      "metadata": {
        "id": "j8N9NyM4RjZJ"
      }
    },
    {
      "cell_type": "code",
      "source": [
        "data = pd.read_excel(\"/content/buffer4.xlsx\")"
      ],
      "metadata": {
        "id": "9X5ONxABRocp"
      },
      "execution_count": null,
      "outputs": []
    },
    {
      "cell_type": "code",
      "source": [
        "print(data.info())"
      ],
      "metadata": {
        "colab": {
          "base_uri": "https://localhost:8080/"
        },
        "id": "m3RQhgZwSDuI",
        "outputId": "3212ea83-4bc4-429d-a2d1-9cd926fce81c"
      },
      "execution_count": null,
      "outputs": [
        {
          "output_type": "stream",
          "name": "stdout",
          "text": [
            "<class 'pandas.core.frame.DataFrame'>\n",
            "RangeIndex: 13491 entries, 0 to 13490\n",
            "Data columns (total 24 columns):\n",
            " #   Column                   Non-Null Count  Dtype         \n",
            "---  ------                   --------------  -----         \n",
            " 0   TRAN_AMT                 13491 non-null  float64       \n",
            " 1   ACCT_PRE_TRAN_AVAIL_BAL  13491 non-null  float64       \n",
            " 2   CUST_AGE                 13491 non-null  int64         \n",
            " 3   OPEN_ACCT_CT             13491 non-null  int64         \n",
            " 4   WF_dvc_age               13491 non-null  int64         \n",
            " 5   PWD_UPDT_TS              13491 non-null  datetime64[ns]\n",
            " 6   CARR_NAME                11077 non-null  object        \n",
            " 7   RGN_NAME                 11077 non-null  object        \n",
            " 8   STATE_PRVNC_TXT          11077 non-null  object        \n",
            " 9   ALERT_TRGR_CD            13491 non-null  object        \n",
            " 10  DVC_TYPE_TXT             11828 non-null  object        \n",
            " 11  AUTHC_PRIM_TYPE_CD       13491 non-null  object        \n",
            " 12  AUTHC_SCNDRY_STAT_TXT    13417 non-null  object        \n",
            " 13  CUST_ZIP                 13491 non-null  int64         \n",
            " 14  CUST_STATE               13455 non-null  object        \n",
            " 15  PH_NUM_UPDT_TS           13491 non-null  datetime64[ns]\n",
            " 16  CUST_SINCE_DT            13491 non-null  datetime64[ns]\n",
            " 17  TRAN_TS                  13491 non-null  object        \n",
            " 18  TRAN_DT                  13491 non-null  object        \n",
            " 19  ACTN_CD                  13491 non-null  object        \n",
            " 20  ACTN_INTNL_TXT           13491 non-null  object        \n",
            " 21  TRAN_TYPE_CD             13491 non-null  object        \n",
            " 22  ACTVY_DT                 13491 non-null  object        \n",
            " 23  FRAUD_NONFRAUD           13491 non-null  object        \n",
            "dtypes: datetime64[ns](3), float64(2), int64(4), object(15)\n",
            "memory usage: 2.5+ MB\n",
            "None\n"
          ]
        }
      ]
    },
    {
      "cell_type": "code",
      "source": [
        "cst_since = pd.Series(data[\"CUST_SINCE_DT\"])\n",
        "cst_since_numeric = cst_since\n",
        "for i in range(len(cst_since)):\n",
        "  cst_since_numeric[i] = int(round(cst_since[i].timestamp()))\n",
        "print(cst_since_numeric.head(100))"
      ],
      "metadata": {
        "colab": {
          "base_uri": "https://localhost:8080/"
        },
        "id": "VsUc9za4SEyI",
        "outputId": "f5cf6c69-1951-4e6d-bac0-69cb5edc4ec0"
      },
      "execution_count": null,
      "outputs": [
        {
          "output_type": "stream",
          "name": "stdout",
          "text": [
            "0      726278400\n",
            "1       32054400\n",
            "2      760060800\n",
            "3     1004572800\n",
            "4      539654400\n",
            "         ...    \n",
            "95     950054400\n",
            "96     866851200\n",
            "97    1475884800\n",
            "98    1471910400\n",
            "99    1065830400\n",
            "Name: CUST_SINCE_DT, Length: 100, dtype: object\n"
          ]
        }
      ]
    },
    {
      "cell_type": "code",
      "source": [
        "ph_num_up = pd.Series(data[\"PH_NUM_UPDT_TS\"])\n",
        "ph_num_up_numeric = ph_num_up\n",
        "for i in range(len(ph_num_up)):\n",
        "  ph_num_up_numeric[i] = int(round(ph_num_up[i].timestamp()))\n",
        "print(ph_num_up_numeric.head(100))"
      ],
      "metadata": {
        "colab": {
          "base_uri": "https://localhost:8080/"
        },
        "id": "C6RX7uLPSUKl",
        "outputId": "0bb4beb9-c2c3-4bd4-8617-81f610412df9"
      },
      "execution_count": null,
      "outputs": [
        {
          "output_type": "stream",
          "name": "stdout",
          "text": [
            "0     1614182110\n",
            "1       32054400\n",
            "2     1557018519\n",
            "3     1550299537\n",
            "4     1588933626\n",
            "         ...    \n",
            "95     950054400\n",
            "96    1504839231\n",
            "97    1475884800\n",
            "98    1471910400\n",
            "99    1065830400\n",
            "Name: PH_NUM_UPDT_TS, Length: 100, dtype: object\n"
          ]
        }
      ]
    },
    {
      "cell_type": "code",
      "source": [
        "pwd_up = pd.Series(data[\"PWD_UPDT_TS\"])\n",
        "pwd_up_numeric = pwd_up\n",
        "for i in range(len(pwd_up)):\n",
        "  pwd_up_numeric[i] = int(round(pwd_up[i].timestamp()))\n",
        "print(pwd_up_numeric.head(100))"
      ],
      "metadata": {
        "colab": {
          "base_uri": "https://localhost:8080/"
        },
        "id": "PH8d7-IjSYb8",
        "outputId": "14b6d321-f9bd-49e7-d75c-256ee17ee459"
      },
      "execution_count": null,
      "outputs": [
        {
          "output_type": "stream",
          "name": "stdout",
          "text": [
            "0     1516100638\n",
            "1       32054400\n",
            "2     1640169771\n",
            "3     1581146911\n",
            "4     1609157564\n",
            "         ...    \n",
            "95    1494335240\n",
            "96    1614372941\n",
            "97    1496066840\n",
            "98    1621389431\n",
            "99    1065830400\n",
            "Name: PWD_UPDT_TS, Length: 100, dtype: object\n"
          ]
        }
      ]
    },
    {
      "cell_type": "code",
      "source": [
        "data[\"pwd_up_numeric\"] = pwd_up_numeric\n",
        "data[\"ph_num_up_numeric\"] = ph_num_up_numeric\n",
        "data[\"cst_since_numeric\"] = cst_since_numeric"
      ],
      "metadata": {
        "id": "By2m5RRXSZvJ"
      },
      "execution_count": null,
      "outputs": []
    },
    {
      "cell_type": "code",
      "source": [
        "print(data[\"TRAN_TS\"].head(100))"
      ],
      "metadata": {
        "colab": {
          "base_uri": "https://localhost:8080/"
        },
        "id": "eDP6kXm_Sa4P",
        "outputId": "8d511315-d299-4dd9-8d80-040d9861d653"
      },
      "execution_count": null,
      "outputs": [
        {
          "output_type": "stream",
          "name": "stdout",
          "text": [
            "0       5/3/2021 18:3:58\n",
            "1     1/13/2021 19:19:37\n",
            "2       4/8/2021 9:42:51\n",
            "3     8/10/2021 15:28:31\n",
            "4     6/27/2021 11:12:44\n",
            "             ...        \n",
            "95      6/4/2021 11:0:51\n",
            "96     7/21/2021 9:55:41\n",
            "97     7/18/2021 17:0:51\n",
            "98     6/26/2021 9:57:11\n",
            "99     5/19/2021 11:37:9\n",
            "Name: TRAN_TS, Length: 100, dtype: object\n"
          ]
        }
      ]
    },
    {
      "cell_type": "code",
      "source": [
        "tran_TS = pd.Series(data[\"TRAN_TS\"])\n",
        "cst_since = pd.Series(data[\"CUST_SINCE_DT\"])\n",
        "tran_TS.fillna(130, inplace = True )\n",
        "#phn.head(100)\n",
        "for i in range(len(cst_since)):\n",
        "  if tran_TS[i] == 130:\n",
        "    tran_TS[i] = cst_since[i]\n",
        "print(tran_TS.head(100))"
      ],
      "metadata": {
        "colab": {
          "base_uri": "https://localhost:8080/"
        },
        "id": "LfbsNXheScDg",
        "outputId": "6b368d31-5eea-4a6c-fd5b-8aa8fb56cf4f"
      },
      "execution_count": null,
      "outputs": [
        {
          "output_type": "stream",
          "name": "stdout",
          "text": [
            "0       5/3/2021 18:3:58\n",
            "1     1/13/2021 19:19:37\n",
            "2       4/8/2021 9:42:51\n",
            "3     8/10/2021 15:28:31\n",
            "4     6/27/2021 11:12:44\n",
            "             ...        \n",
            "95      6/4/2021 11:0:51\n",
            "96     7/21/2021 9:55:41\n",
            "97     7/18/2021 17:0:51\n",
            "98     6/26/2021 9:57:11\n",
            "99     5/19/2021 11:37:9\n",
            "Name: TRAN_TS, Length: 100, dtype: object\n"
          ]
        }
      ]
    },
    {
      "cell_type": "code",
      "source": [
        "temp1 = pd.to_datetime(tran_TS , errors = 'coerce')\n",
        "temp1.head(1000)\n",
        "data[\"TRAN_TS\"] = temp1"
      ],
      "metadata": {
        "id": "DK7Z7wHDSdXH"
      },
      "execution_count": null,
      "outputs": []
    },
    {
      "cell_type": "code",
      "source": [
        "TRAN_TS_done =  data[data[\"TRAN_TS\"].notna()]"
      ],
      "metadata": {
        "id": "RhIw_UHMSgkh"
      },
      "execution_count": null,
      "outputs": []
    },
    {
      "cell_type": "code",
      "source": [
        "data.to_excel(\"/content/buffer5.xlsx\", index = False)"
      ],
      "metadata": {
        "id": "rZkqumnLShyT"
      },
      "execution_count": null,
      "outputs": []
    },
    {
      "cell_type": "code",
      "source": [
        "data1 = pd.read_excel(\"/content/buffer5.xlsx\")"
      ],
      "metadata": {
        "id": "yhK2d3LvSjZ1"
      },
      "execution_count": null,
      "outputs": []
    },
    {
      "cell_type": "code",
      "source": [
        "print(data.info())"
      ],
      "metadata": {
        "colab": {
          "base_uri": "https://localhost:8080/"
        },
        "id": "R6eveG8SSkZR",
        "outputId": "49096563-ff84-4c07-aea7-96e2d016ce98"
      },
      "execution_count": null,
      "outputs": [
        {
          "output_type": "stream",
          "name": "stdout",
          "text": [
            "<class 'pandas.core.frame.DataFrame'>\n",
            "RangeIndex: 13491 entries, 0 to 13490\n",
            "Data columns (total 27 columns):\n",
            " #   Column                   Non-Null Count  Dtype         \n",
            "---  ------                   --------------  -----         \n",
            " 0   TRAN_AMT                 13491 non-null  float64       \n",
            " 1   ACCT_PRE_TRAN_AVAIL_BAL  13491 non-null  float64       \n",
            " 2   CUST_AGE                 13491 non-null  int64         \n",
            " 3   OPEN_ACCT_CT             13491 non-null  int64         \n",
            " 4   WF_dvc_age               13491 non-null  int64         \n",
            " 5   PWD_UPDT_TS              13491 non-null  datetime64[ns]\n",
            " 6   CARR_NAME                11077 non-null  object        \n",
            " 7   RGN_NAME                 11077 non-null  object        \n",
            " 8   STATE_PRVNC_TXT          11077 non-null  object        \n",
            " 9   ALERT_TRGR_CD            13491 non-null  object        \n",
            " 10  DVC_TYPE_TXT             11828 non-null  object        \n",
            " 11  AUTHC_PRIM_TYPE_CD       13491 non-null  object        \n",
            " 12  AUTHC_SCNDRY_STAT_TXT    13417 non-null  object        \n",
            " 13  CUST_ZIP                 13491 non-null  int64         \n",
            " 14  CUST_STATE               13455 non-null  object        \n",
            " 15  PH_NUM_UPDT_TS           13491 non-null  datetime64[ns]\n",
            " 16  CUST_SINCE_DT            13491 non-null  datetime64[ns]\n",
            " 17  TRAN_TS                  13491 non-null  datetime64[ns]\n",
            " 18  TRAN_DT                  13491 non-null  object        \n",
            " 19  ACTN_CD                  13491 non-null  object        \n",
            " 20  ACTN_INTNL_TXT           13491 non-null  object        \n",
            " 21  TRAN_TYPE_CD             13491 non-null  object        \n",
            " 22  ACTVY_DT                 13491 non-null  object        \n",
            " 23  FRAUD_NONFRAUD           13491 non-null  object        \n",
            " 24  pwd_up_numeric           13491 non-null  object        \n",
            " 25  ph_num_up_numeric        13491 non-null  object        \n",
            " 26  cst_since_numeric        13491 non-null  object        \n",
            "dtypes: datetime64[ns](4), float64(2), int64(4), object(17)\n",
            "memory usage: 2.8+ MB\n",
            "None\n"
          ]
        }
      ]
    },
    {
      "cell_type": "code",
      "source": [
        "tran_ts = pd.Series(data[\"TRAN_TS\"])\n",
        "tran_ts_numeric = tran_ts\n",
        "for i in range(len(tran_ts)):\n",
        "  tran_ts_numeric[i] = int(round(tran_ts[i].timestamp()))\n",
        "print(tran_ts_numeric.head(100))"
      ],
      "metadata": {
        "colab": {
          "base_uri": "https://localhost:8080/"
        },
        "id": "sTXHLYzbSmc0",
        "outputId": "cfb717c3-eec7-458c-fa6b-7227ccaec7ff"
      },
      "execution_count": null,
      "outputs": [
        {
          "output_type": "stream",
          "name": "stdout",
          "text": [
            "0     1620065038\n",
            "1     1610565577\n",
            "2     1617874971\n",
            "3     1628609311\n",
            "4     1624792364\n",
            "         ...    \n",
            "95    1622804451\n",
            "96    1626861341\n",
            "97    1626627651\n",
            "98    1624701431\n",
            "99    1621424229\n",
            "Name: TRAN_TS, Length: 100, dtype: object\n"
          ]
        }
      ]
    },
    {
      "cell_type": "code",
      "source": [
        "data1[\"Tran_TS_Numeric\"] = tran_ts_numeric"
      ],
      "metadata": {
        "id": "OoWheURrSngE"
      },
      "execution_count": null,
      "outputs": []
    },
    {
      "cell_type": "code",
      "source": [
        "cst_diff_tran = data1[\"cst_since_numeric\"]\n",
        "phn_diff_tran = data1[\"ph_num_up_numeric\"]\n",
        "pwd_diff_tran = data1[\"pwd_up_numeric\"]\n",
        "Tran_TS_Numeric = data1[\"Tran_TS_Numeric\"]\n",
        "for i in range(len(Tran_TS_Numeric)):\n",
        "  cst_diff_tran[i] = Tran_TS_Numeric[i] - cst_diff_tran[i]\n",
        "  phn_diff_tran[i] = Tran_TS_Numeric[i] - phn_diff_tran[i]\n",
        "  pwd_diff_tran[i] =  Tran_TS_Numeric[i] -pwd_diff_tran[i]"
      ],
      "metadata": {
        "colab": {
          "base_uri": "https://localhost:8080/"
        },
        "id": "scAom-7CSooU",
        "outputId": "5612dccf-2c71-41d7-a863-8e2922ca3f07"
      },
      "execution_count": null,
      "outputs": [
        {
          "output_type": "stream",
          "name": "stderr",
          "text": [
            "/usr/local/lib/python3.7/dist-packages/ipykernel_launcher.py:6: SettingWithCopyWarning: \n",
            "A value is trying to be set on a copy of a slice from a DataFrame\n",
            "\n",
            "See the caveats in the documentation: https://pandas.pydata.org/pandas-docs/stable/user_guide/indexing.html#returning-a-view-versus-a-copy\n",
            "  \n",
            "/usr/local/lib/python3.7/dist-packages/ipykernel_launcher.py:7: SettingWithCopyWarning: \n",
            "A value is trying to be set on a copy of a slice from a DataFrame\n",
            "\n",
            "See the caveats in the documentation: https://pandas.pydata.org/pandas-docs/stable/user_guide/indexing.html#returning-a-view-versus-a-copy\n",
            "  import sys\n",
            "/usr/local/lib/python3.7/dist-packages/ipykernel_launcher.py:8: SettingWithCopyWarning: \n",
            "A value is trying to be set on a copy of a slice from a DataFrame\n",
            "\n",
            "See the caveats in the documentation: https://pandas.pydata.org/pandas-docs/stable/user_guide/indexing.html#returning-a-view-versus-a-copy\n",
            "  \n"
          ]
        }
      ]
    },
    {
      "cell_type": "code",
      "source": [
        "data1[\"cst_diff_tran\"] = cst_diff_tran\n",
        "data1[\"phn_diff_tran\"] = phn_diff_tran\n",
        "data1[\"pwd_diff_tran\"] = pwd_diff_tran"
      ],
      "metadata": {
        "id": "uhNWTa7MSp6v"
      },
      "execution_count": null,
      "outputs": []
    },
    {
      "cell_type": "code",
      "source": [
        "print(data1[\"cst_diff_tran\"].head(100))"
      ],
      "metadata": {
        "colab": {
          "base_uri": "https://localhost:8080/"
        },
        "id": "3dCpoWiiSqON",
        "outputId": "69b1edf9-9444-46a9-99e4-1a5cc156913b"
      },
      "execution_count": null,
      "outputs": [
        {
          "output_type": "stream",
          "name": "stdout",
          "text": [
            "0      893786638\n",
            "1     1578511177\n",
            "2      857814171\n",
            "3      624036511\n",
            "4     1085137964\n",
            "         ...    \n",
            "95     672750051\n",
            "96     760010141\n",
            "97     150742851\n",
            "98     152791031\n",
            "99     555593829\n",
            "Name: cst_diff_tran, Length: 100, dtype: int64\n"
          ]
        }
      ]
    },
    {
      "cell_type": "code",
      "source": [
        "print(data1.info())"
      ],
      "metadata": {
        "colab": {
          "base_uri": "https://localhost:8080/"
        },
        "id": "MutX7LnHSrbo",
        "outputId": "9c097b89-8096-4c08-8f6d-4894491cb378"
      },
      "execution_count": null,
      "outputs": [
        {
          "output_type": "stream",
          "name": "stdout",
          "text": [
            "<class 'pandas.core.frame.DataFrame'>\n",
            "RangeIndex: 13491 entries, 0 to 13490\n",
            "Data columns (total 31 columns):\n",
            " #   Column                   Non-Null Count  Dtype         \n",
            "---  ------                   --------------  -----         \n",
            " 0   TRAN_AMT                 13491 non-null  float64       \n",
            " 1   ACCT_PRE_TRAN_AVAIL_BAL  13491 non-null  float64       \n",
            " 2   CUST_AGE                 13491 non-null  int64         \n",
            " 3   OPEN_ACCT_CT             13491 non-null  int64         \n",
            " 4   WF_dvc_age               13491 non-null  int64         \n",
            " 5   PWD_UPDT_TS              13491 non-null  datetime64[ns]\n",
            " 6   CARR_NAME                11077 non-null  object        \n",
            " 7   RGN_NAME                 11077 non-null  object        \n",
            " 8   STATE_PRVNC_TXT          11077 non-null  object        \n",
            " 9   ALERT_TRGR_CD            13491 non-null  object        \n",
            " 10  DVC_TYPE_TXT             11828 non-null  object        \n",
            " 11  AUTHC_PRIM_TYPE_CD       13491 non-null  object        \n",
            " 12  AUTHC_SCNDRY_STAT_TXT    13417 non-null  object        \n",
            " 13  CUST_ZIP                 13491 non-null  int64         \n",
            " 14  CUST_STATE               13455 non-null  object        \n",
            " 15  PH_NUM_UPDT_TS           13491 non-null  datetime64[ns]\n",
            " 16  CUST_SINCE_DT            13491 non-null  datetime64[ns]\n",
            " 17  TRAN_TS                  13491 non-null  datetime64[ns]\n",
            " 18  TRAN_DT                  13491 non-null  object        \n",
            " 19  ACTN_CD                  13491 non-null  object        \n",
            " 20  ACTN_INTNL_TXT           13491 non-null  object        \n",
            " 21  TRAN_TYPE_CD             13491 non-null  object        \n",
            " 22  ACTVY_DT                 13491 non-null  object        \n",
            " 23  FRAUD_NONFRAUD           13491 non-null  object        \n",
            " 24  pwd_up_numeric           13491 non-null  int64         \n",
            " 25  ph_num_up_numeric        13491 non-null  int64         \n",
            " 26  cst_since_numeric        13491 non-null  int64         \n",
            " 27  Tran_TS_Numeric          13491 non-null  object        \n",
            " 28  cst_diff_tran            13491 non-null  int64         \n",
            " 29  phn_diff_tran            13491 non-null  int64         \n",
            " 30  pwd_diff_tran            13491 non-null  int64         \n",
            "dtypes: datetime64[ns](4), float64(2), int64(10), object(15)\n",
            "memory usage: 3.2+ MB\n",
            "None\n"
          ]
        }
      ]
    },
    {
      "cell_type": "code",
      "source": [
        "data1.to_excel(\"/content/buffer6.xlsx\", index = False)"
      ],
      "metadata": {
        "id": "U0YFfCo9Styp"
      },
      "execution_count": null,
      "outputs": []
    },
    {
      "cell_type": "markdown",
      "source": [
        "## Dummy Variable Creation "
      ],
      "metadata": {
        "id": "ZRry__dT9eiv"
      }
    },
    {
      "cell_type": "code",
      "source": [
        "data1 = pd.read_excel('/content/buffer6.xlsx')"
      ],
      "metadata": {
        "id": "-a5ahuXO9mvC"
      },
      "execution_count": null,
      "outputs": []
    },
    {
      "cell_type": "code",
      "source": [
        "data = data1"
      ],
      "metadata": {
        "id": "F1mQVPzVOHzY"
      },
      "execution_count": null,
      "outputs": []
    },
    {
      "cell_type": "code",
      "source": [
        "data['CUST_AGE'] = pd.Series(np.where(data.CUST_AGE.values >=60, 1, 0),data.index)\n",
        "data['CUST_AGE']"
      ],
      "metadata": {
        "id": "pQFq5Q3D-Ic3",
        "colab": {
          "base_uri": "https://localhost:8080/"
        },
        "outputId": "d60891cc-496f-4eaf-e2fc-e7b05cc58d0f"
      },
      "execution_count": null,
      "outputs": [
        {
          "output_type": "execute_result",
          "data": {
            "text/plain": [
              "0        0\n",
              "1        0\n",
              "2        0\n",
              "3        1\n",
              "4        1\n",
              "        ..\n",
              "13486    0\n",
              "13487    0\n",
              "13488    0\n",
              "13489    0\n",
              "13490    1\n",
              "Name: CUST_AGE, Length: 13491, dtype: int64"
            ]
          },
          "metadata": {},
          "execution_count": 38
        }
      ]
    },
    {
      "cell_type": "code",
      "source": [
        "b = data['CARR_NAME'].fillna(\"0\")\n",
        "b"
      ],
      "metadata": {
        "id": "imtw2hcXOmIQ",
        "colab": {
          "base_uri": "https://localhost:8080/"
        },
        "outputId": "0f91ba69-c476-4312-c2f8-b25a5dd96911"
      },
      "execution_count": null,
      "outputs": [
        {
          "output_type": "execute_result",
          "data": {
            "text/plain": [
              "0                        cox communications inc.\n",
              "1                         charter communications\n",
              "2                             utah broadband llc\n",
              "3                             t-mobile usa  inc.\n",
              "4                          cogent communications\n",
              "                          ...                   \n",
              "13486    cellco partnership dba verizon wireless\n",
              "13487                         t-mobile usa  inc.\n",
              "13488                           att services inc\n",
              "13489                                          0\n",
              "13490                 charter communications inc\n",
              "Name: CARR_NAME, Length: 13491, dtype: object"
            ]
          },
          "metadata": {},
          "execution_count": 39
        }
      ]
    },
    {
      "cell_type": "code",
      "source": [
        "popular = ['cox communications inc.', 't-mobile usa  inc.', 'charter communications inc','comcast', 'comcast cable communications  llc', 'centurylink communications  llc', 'frontier communications of america  inc.', 'att services inc', 'charter communications', 'at&t mobility llc', 'cellco partnership dba verizon wireless', ]\n",
        "b = list(b)\n",
        "\n",
        "for i in range(len(b)):\n",
        "  if b[i] in popular:\n",
        "    b[i] = \"1\" "
      ],
      "metadata": {
        "id": "PJM2uzScR__S"
      },
      "execution_count": null,
      "outputs": []
    },
    {
      "cell_type": "code",
      "source": [
        "b[:30]"
      ],
      "metadata": {
        "id": "bvFCky8-Wmbv",
        "colab": {
          "base_uri": "https://localhost:8080/"
        },
        "outputId": "b2ab1fbf-ccf6-47ab-a1ef-77bd137a9c58"
      },
      "execution_count": null,
      "outputs": [
        {
          "output_type": "execute_result",
          "data": {
            "text/plain": [
              "['1',\n",
              " '1',\n",
              " 'utah broadband llc',\n",
              " '1',\n",
              " 'cogent communications',\n",
              " 'ultimate internet access, inc',\n",
              " '1',\n",
              " '1',\n",
              " '1',\n",
              " '0',\n",
              " '0',\n",
              " '1',\n",
              " '1',\n",
              " '1',\n",
              " '1',\n",
              " '1',\n",
              " '1',\n",
              " '1',\n",
              " '1',\n",
              " '1',\n",
              " '0',\n",
              " '0',\n",
              " 'smarterbroadband',\n",
              " '1',\n",
              " '1',\n",
              " '1',\n",
              " '0',\n",
              " 'go fiber',\n",
              " 'charter communications  inc',\n",
              " '1']"
            ]
          },
          "metadata": {},
          "execution_count": 41
        }
      ]
    },
    {
      "cell_type": "code",
      "source": [
        "a = b \n",
        "for i in range(len(a)):\n",
        "  if a[i]!=\"1\" and a[i]!=\"0\":\n",
        "    a[i] = '2'"
      ],
      "metadata": {
        "id": "Q7rhj25PWyCS"
      },
      "execution_count": null,
      "outputs": []
    },
    {
      "cell_type": "code",
      "source": [
        "y = pd.Series(a)"
      ],
      "metadata": {
        "id": "GP2k0plkjWnL"
      },
      "execution_count": null,
      "outputs": []
    },
    {
      "cell_type": "code",
      "source": [
        "data['CARR_NAME'] =  pd.Series(a)"
      ],
      "metadata": {
        "id": "JwEJkqvZSvq8"
      },
      "execution_count": null,
      "outputs": []
    },
    {
      "cell_type": "code",
      "source": [
        "data['CARR_NAME'].value_counts()\n",
        "# 0 = Unknown Carrier\n",
        "# 1 = Reputed Carrier\n",
        "# 2 = Not so famous Carrier "
      ],
      "metadata": {
        "colab": {
          "base_uri": "https://localhost:8080/"
        },
        "id": "PjiwU72HlNPd",
        "outputId": "e90351e2-aa1d-4740-c353-15d9d23d8346"
      },
      "execution_count": null,
      "outputs": [
        {
          "output_type": "execute_result",
          "data": {
            "text/plain": [
              "1    8953\n",
              "0    2414\n",
              "2    2124\n",
              "Name: CARR_NAME, dtype: int64"
            ]
          },
          "metadata": {},
          "execution_count": 45
        }
      ]
    },
    {
      "cell_type": "code",
      "source": [
        "data['CARR_NAME'] = data.CARR_NAME.replace(to_replace =[\"0\"], value = \"Unknown Carrier\")\n",
        "data['CARR_NAME'] = data.CARR_NAME.replace(to_replace =[\"1\"], value = \"Popular Carrier\")\n",
        "data['CARR_NAME'] = data.CARR_NAME.replace(to_replace =[\"2\"], value = \"Not Popular Carrier\")"
      ],
      "metadata": {
        "id": "BNzRAyJ8Q6mN"
      },
      "execution_count": null,
      "outputs": []
    },
    {
      "cell_type": "code",
      "source": [
        "data = pd.get_dummies(data,prefix = ['Carrier'],columns=['CARR_NAME'],drop_first=True)\n",
        "data.columns"
      ],
      "metadata": {
        "colab": {
          "base_uri": "https://localhost:8080/"
        },
        "id": "iCtYMyNyQdj7",
        "outputId": "019b8773-8b3b-488b-8819-1648e2351aa9"
      },
      "execution_count": null,
      "outputs": [
        {
          "output_type": "execute_result",
          "data": {
            "text/plain": [
              "Index(['TRAN_AMT', 'ACCT_PRE_TRAN_AVAIL_BAL', 'CUST_AGE', 'OPEN_ACCT_CT',\n",
              "       'WF_dvc_age', 'PWD_UPDT_TS', 'RGN_NAME', 'STATE_PRVNC_TXT',\n",
              "       'ALERT_TRGR_CD', 'DVC_TYPE_TXT', 'AUTHC_PRIM_TYPE_CD',\n",
              "       'AUTHC_SCNDRY_STAT_TXT', 'CUST_ZIP', 'CUST_STATE', 'PH_NUM_UPDT_TS',\n",
              "       'CUST_SINCE_DT', 'TRAN_TS', 'TRAN_DT', 'ACTN_CD', 'ACTN_INTNL_TXT',\n",
              "       'TRAN_TYPE_CD', 'ACTVY_DT', 'FRAUD_NONFRAUD', 'pwd_up_numeric',\n",
              "       'ph_num_up_numeric', 'cst_since_numeric', 'Tran_TS_Numeric',\n",
              "       'cst_diff_tran', 'phn_diff_tran', 'pwd_diff_tran',\n",
              "       'Carrier_Popular Carrier', 'Carrier_Unknown Carrier'],\n",
              "      dtype='object')"
            ]
          },
          "metadata": {},
          "execution_count": 47
        }
      ]
    },
    {
      "cell_type": "code",
      "source": [
        "data['ALERT_TRGR_CD'] = pd.Series(np.where(data.ALERT_TRGR_CD.values == 'ONLN', 1, 0),data.index)\n",
        "data['ALERT_TRGR_CD']\n",
        "###########################################################################################################"
      ],
      "metadata": {
        "colab": {
          "base_uri": "https://localhost:8080/"
        },
        "id": "ZGkHWDC6-V3g",
        "outputId": "2ffa0e40-4323-4cc1-96cc-d4d02c8c3b2f"
      },
      "execution_count": null,
      "outputs": [
        {
          "output_type": "execute_result",
          "data": {
            "text/plain": [
              "0        0\n",
              "1        0\n",
              "2        1\n",
              "3        0\n",
              "4        0\n",
              "        ..\n",
              "13486    0\n",
              "13487    0\n",
              "13488    0\n",
              "13489    1\n",
              "13490    0\n",
              "Name: ALERT_TRGR_CD, Length: 13491, dtype: int64"
            ]
          },
          "metadata": {},
          "execution_count": 48
        }
      ]
    },
    {
      "cell_type": "code",
      "source": [
        "data['DVC_TYPE_TXT'] = data.DVC_TYPE_TXT.replace(to_replace = np.nan, value = 'NoDevice')\n",
        "data_df = pd.get_dummies(data,prefix = ['Device'],columns=['DVC_TYPE_TXT'],drop_first=True)\n",
        "data_df.columns"
      ],
      "metadata": {
        "id": "SL4pxtmCuGSx",
        "colab": {
          "base_uri": "https://localhost:8080/"
        },
        "outputId": "49a7fd81-1eab-4bb2-eee5-b39158b7ac5d"
      },
      "execution_count": null,
      "outputs": [
        {
          "output_type": "execute_result",
          "data": {
            "text/plain": [
              "Index(['TRAN_AMT', 'ACCT_PRE_TRAN_AVAIL_BAL', 'CUST_AGE', 'OPEN_ACCT_CT',\n",
              "       'WF_dvc_age', 'PWD_UPDT_TS', 'RGN_NAME', 'STATE_PRVNC_TXT',\n",
              "       'ALERT_TRGR_CD', 'AUTHC_PRIM_TYPE_CD', 'AUTHC_SCNDRY_STAT_TXT',\n",
              "       'CUST_ZIP', 'CUST_STATE', 'PH_NUM_UPDT_TS', 'CUST_SINCE_DT', 'TRAN_TS',\n",
              "       'TRAN_DT', 'ACTN_CD', 'ACTN_INTNL_TXT', 'TRAN_TYPE_CD', 'ACTVY_DT',\n",
              "       'FRAUD_NONFRAUD', 'pwd_up_numeric', 'ph_num_up_numeric',\n",
              "       'cst_since_numeric', 'Tran_TS_Numeric', 'cst_diff_tran',\n",
              "       'phn_diff_tran', 'pwd_diff_tran', 'Carrier_Popular Carrier',\n",
              "       'Carrier_Unknown Carrier', 'Device_MOBILE', 'Device_NoDevice',\n",
              "       'Device_PHONE', 'Device_TABLET'],\n",
              "      dtype='object')"
            ]
          },
          "metadata": {},
          "execution_count": 49
        }
      ]
    },
    {
      "cell_type": "code",
      "source": [
        "#data['DVC_TYPE_TXT'] = data.DVC_TYPE_TXT.replace(to_replace = np.nan, value = 'NoDevice')\n",
        "#data['DVC_TYPE_TXT'] = data.DVC_TYPE_TXT.replace(to_replace =[\"DESKTOP\"], value = 1)\n",
        "#data['DVC_TYPE_TXT'] = data.DVC_TYPE_TXT.replace(to_replace =[\"MOBILE\"], value = 2)\n",
        "#data['DVC_TYPE_TXT'] = data.DVC_TYPE_TXT.replace(to_replace =[\"PHONE\"], value = 3)\n",
        "#data['DVC_TYPE_TXT'] = data.DVC_TYPE_TXT.replace(to_replace =[\"TABLET\"], value = 4)\n",
        "#data['DVC_TYPE_TXT']"
      ],
      "metadata": {
        "id": "C6FroD-w-b6_"
      },
      "execution_count": null,
      "outputs": []
    },
    {
      "cell_type": "code",
      "source": [
        "data_df = pd.get_dummies(data_df,prefix = ['auth_prim'],columns=['AUTHC_PRIM_TYPE_CD'],drop_first=True)\n",
        "data_df.columns"
      ],
      "metadata": {
        "colab": {
          "base_uri": "https://localhost:8080/"
        },
        "id": "NwchFw9MwwZ1",
        "outputId": "d1a02ccd-73b3-41b5-dc99-8ea8cb0a01d9"
      },
      "execution_count": null,
      "outputs": [
        {
          "output_type": "execute_result",
          "data": {
            "text/plain": [
              "Index(['TRAN_AMT', 'ACCT_PRE_TRAN_AVAIL_BAL', 'CUST_AGE', 'OPEN_ACCT_CT',\n",
              "       'WF_dvc_age', 'PWD_UPDT_TS', 'RGN_NAME', 'STATE_PRVNC_TXT',\n",
              "       'ALERT_TRGR_CD', 'AUTHC_SCNDRY_STAT_TXT', 'CUST_ZIP', 'CUST_STATE',\n",
              "       'PH_NUM_UPDT_TS', 'CUST_SINCE_DT', 'TRAN_TS', 'TRAN_DT', 'ACTN_CD',\n",
              "       'ACTN_INTNL_TXT', 'TRAN_TYPE_CD', 'ACTVY_DT', 'FRAUD_NONFRAUD',\n",
              "       'pwd_up_numeric', 'ph_num_up_numeric', 'cst_since_numeric',\n",
              "       'Tran_TS_Numeric', 'cst_diff_tran', 'phn_diff_tran', 'pwd_diff_tran',\n",
              "       'Carrier_Popular Carrier', 'Carrier_Unknown Carrier', 'Device_MOBILE',\n",
              "       'Device_NoDevice', 'Device_PHONE', 'Device_TABLET', 'auth_prim_AFA_PL',\n",
              "       'auth_prim_FACE_ID', 'auth_prim_TOUCH_ID', 'auth_prim_UN_PWD'],\n",
              "      dtype='object')"
            ]
          },
          "metadata": {},
          "execution_count": 51
        }
      ]
    },
    {
      "cell_type": "code",
      "source": [
        "#data['AUTHC_PRIM_TYPE_CD'] = data.AUTHC_PRIM_TYPE_CD.replace(to_replace =[\"AFA_PL\"], value = 0)\n",
        "#data['AUTHC_PRIM_TYPE_CD'] = data.AUTHC_PRIM_TYPE_CD.replace(to_replace =[\"FACE_ID\"], value = 1)\n",
        "#data['AUTHC_PRIM_TYPE_CD'] = data.AUTHC_PRIM_TYPE_CD.replace(to_replace =[\"TOUCH_ID\"], value = 2)\n",
        "#data['AUTHC_PRIM_TYPE_CD'] = data.AUTHC_PRIM_TYPE_CD.replace(to_replace =[\"UN_PWD\"], value = 3)\n",
        "#data['AUTHC_PRIM_TYPE_CD'] = data.AUTHC_PRIM_TYPE_CD.replace(to_replace =[\"AFA_BM\"], value = 4)\n",
        "#data['AUTHC_PRIM_TYPE_CD']"
      ],
      "metadata": {
        "id": "BFsV84ZT-dCT"
      },
      "execution_count": null,
      "outputs": []
    },
    {
      "cell_type": "code",
      "source": [
        "data_df = pd.get_dummies(data_df,prefix = ['auth_sec'],columns=['AUTHC_SCNDRY_STAT_TXT'],drop_first=True)\n",
        "data_df.columns"
      ],
      "metadata": {
        "colab": {
          "base_uri": "https://localhost:8080/"
        },
        "id": "B7UyUhXFw-6Q",
        "outputId": "60536d5e-3855-40ed-f415-84af71adae04"
      },
      "execution_count": null,
      "outputs": [
        {
          "output_type": "execute_result",
          "data": {
            "text/plain": [
              "Index(['TRAN_AMT', 'ACCT_PRE_TRAN_AVAIL_BAL', 'CUST_AGE', 'OPEN_ACCT_CT',\n",
              "       'WF_dvc_age', 'PWD_UPDT_TS', 'RGN_NAME', 'STATE_PRVNC_TXT',\n",
              "       'ALERT_TRGR_CD', 'CUST_ZIP', 'CUST_STATE', 'PH_NUM_UPDT_TS',\n",
              "       'CUST_SINCE_DT', 'TRAN_TS', 'TRAN_DT', 'ACTN_CD', 'ACTN_INTNL_TXT',\n",
              "       'TRAN_TYPE_CD', 'ACTVY_DT', 'FRAUD_NONFRAUD', 'pwd_up_numeric',\n",
              "       'ph_num_up_numeric', 'cst_since_numeric', 'Tran_TS_Numeric',\n",
              "       'cst_diff_tran', 'phn_diff_tran', 'pwd_diff_tran',\n",
              "       'Carrier_Popular Carrier', 'Carrier_Unknown Carrier', 'Device_MOBILE',\n",
              "       'Device_NoDevice', 'Device_PHONE', 'Device_TABLET', 'auth_prim_AFA_PL',\n",
              "       'auth_prim_FACE_ID', 'auth_prim_TOUCH_ID', 'auth_prim_UN_PWD',\n",
              "       'auth_sec_CHALLENGE_ISSUED', 'auth_sec_CHALLENGE_SUCCESS'],\n",
              "      dtype='object')"
            ]
          },
          "metadata": {},
          "execution_count": 53
        }
      ]
    },
    {
      "cell_type": "code",
      "source": [
        "#data['AUTHC_SCNDRY_STAT_TXT'] = data.AUTHC_SCNDRY_STAT_TXT.replace(to_replace = np.nan, value = 0)\n",
        "#data['AUTHC_SCNDRY_STAT_TXT'] = data.AUTHC_SCNDRY_STAT_TXT.replace(to_replace =[\"ALLOW\"], value = 1)\n",
        "#data['AUTHC_SCNDRY_STAT_TXT'] = data.AUTHC_SCNDRY_STAT_TXT.replace(to_replace =[\"CHALLENGE_ISSUED\"], value = 2)\n",
        "#data['AUTHC_SCNDRY_STAT_TXT'] = data.AUTHC_SCNDRY_STAT_TXT.replace(to_replace =[\"CHALLENGE_SUCCESS\"], value = 3)\n",
        "#data['AUTHC_SCNDRY_STAT_TXT']"
      ],
      "metadata": {
        "id": "jHS1UPed-fv3"
      },
      "execution_count": null,
      "outputs": []
    },
    {
      "cell_type": "code",
      "source": [
        "data_df.columns"
      ],
      "metadata": {
        "colab": {
          "base_uri": "https://localhost:8080/"
        },
        "id": "w81g6g67Slgy",
        "outputId": "a9dfcd4a-63de-456d-f1ce-5c8a8434fa79"
      },
      "execution_count": null,
      "outputs": [
        {
          "output_type": "execute_result",
          "data": {
            "text/plain": [
              "Index(['TRAN_AMT', 'ACCT_PRE_TRAN_AVAIL_BAL', 'CUST_AGE', 'OPEN_ACCT_CT',\n",
              "       'WF_dvc_age', 'PWD_UPDT_TS', 'RGN_NAME', 'STATE_PRVNC_TXT',\n",
              "       'ALERT_TRGR_CD', 'CUST_ZIP', 'CUST_STATE', 'PH_NUM_UPDT_TS',\n",
              "       'CUST_SINCE_DT', 'TRAN_TS', 'TRAN_DT', 'ACTN_CD', 'ACTN_INTNL_TXT',\n",
              "       'TRAN_TYPE_CD', 'ACTVY_DT', 'FRAUD_NONFRAUD', 'pwd_up_numeric',\n",
              "       'ph_num_up_numeric', 'cst_since_numeric', 'Tran_TS_Numeric',\n",
              "       'cst_diff_tran', 'phn_diff_tran', 'pwd_diff_tran',\n",
              "       'Carrier_Popular Carrier', 'Carrier_Unknown Carrier', 'Device_MOBILE',\n",
              "       'Device_NoDevice', 'Device_PHONE', 'Device_TABLET', 'auth_prim_AFA_PL',\n",
              "       'auth_prim_FACE_ID', 'auth_prim_TOUCH_ID', 'auth_prim_UN_PWD',\n",
              "       'auth_sec_CHALLENGE_ISSUED', 'auth_sec_CHALLENGE_SUCCESS'],\n",
              "      dtype='object')"
            ]
          },
          "metadata": {},
          "execution_count": 55
        }
      ]
    },
    {
      "cell_type": "code",
      "source": [
        "data_df.to_excel(\"/content/final.xlsx\", index = False)"
      ],
      "metadata": {
        "id": "2cYFdyS-xjgO"
      },
      "execution_count": null,
      "outputs": []
    },
    {
      "cell_type": "markdown",
      "source": [
        "## Final dataframe\n",
        "\n",
        "> data_df\n",
        "\n"
      ],
      "metadata": {
        "id": "DM4DE86ZToDf"
      }
    },
    {
      "cell_type": "code",
      "source": [],
      "metadata": {
        "id": "dPrQtI6fTqGm"
      },
      "execution_count": null,
      "outputs": []
    }
  ]
}